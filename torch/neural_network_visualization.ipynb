{
 "cells": [
  {
   "cell_type": "code",
   "execution_count": null,
   "metadata": {},
   "outputs": [],
   "source": [
    "import os\n",
    "from pathlib import Path\n",
    "from PIL import Image\n",
    "import matplotlib.pyplot as plt\n",
    "import torch\n",
    "from torch import nn\n",
    "import torch.nn.functional as F\n",
    "from torchvision import models, transforms"
   ]
  },
  {
   "cell_type": "code",
   "execution_count": null,
   "metadata": {},
   "outputs": [],
   "source": [
    "# visualization from:\n",
    "# https://github.com/FrancescoSaverioZuppichini/A-journey-into-Convolutional-Neural-Network-visualization-\n",
    "from cnn_visualizations.utils import *\n",
    "from cnn_visualizations.visualisation.core import *"
   ]
  },
  {
   "cell_type": "code",
   "execution_count": null,
   "metadata": {},
   "outputs": [],
   "source": [
    "def get_abs_path(n_parent: int = 0):\n",
    "    return Path('../' * n_parent).resolve()"
   ]
  },
  {
   "cell_type": "code",
   "execution_count": null,
   "metadata": {},
   "outputs": [],
   "source": [
    "path = get_abs_path(1)\n",
    "model_path = path / 'models' / 'deep_geo_guessr.pt'\n",
    "images_path = path / 'visualization_examples'\n",
    "images_paths = images_path.glob('**/*.png')\n",
    "images_paths = list(images_paths)\n",
    "images_paths = [str(path) for path in images_paths]\n",
    "\n",
    "device = ('cuda' if torch.cuda.is_available() else 'cpu')\n",
    "print('Using {0} device'.format(device))"
   ]
  },
  {
   "cell_type": "code",
   "execution_count": null,
   "metadata": {},
   "outputs": [],
   "source": [
    "data_transform = transforms.Compose([\n",
    "    transforms.Resize((224,224)),\n",
    "    transforms.ToTensor(),\n",
    "    transforms.Normalize([0.485, 0.456, 0.406], [0.229, 0.224, 0.225])\n",
    "])\n",
    "\n",
    "images = []\n",
    "for image_path in images_paths:\n",
    "    image = Image.open(image_path)\n",
    "    image = data_transform(image).to(device)\n",
    "    image = image.unsqueeze(0)\n",
    "    images.append(image)"
   ]
  },
  {
   "cell_type": "code",
   "execution_count": null,
   "metadata": {},
   "outputs": [],
   "source": [
    "class CountryClassificator(nn.Module):\n",
    "\n",
    "    def __init__(self, num_classes):\n",
    "        super(CountryClassificator, self).__init__()\n",
    "\n",
    "        self.model = models.resnet18(pretrained=True)\n",
    "        self.model.fc = nn.Sequential(\n",
    "            nn.Linear(self.model.fc.in_features, num_classes),\n",
    "            nn.Softmax()\n",
    "        )\n",
    "\n",
    "    def forward(self, x):\n",
    "        x = self.model(x)\n",
    "        return x\n",
    "\n",
    "\n",
    "model = CountryClassificator(5)\n",
    "model.load_state_dict(torch.load(model_path))\n",
    "model.eval()\n",
    "model.to(device)\n",
    "print('Model loaded')"
   ]
  },
  {
   "cell_type": "code",
   "execution_count": null,
   "metadata": {},
   "outputs": [],
   "source": [
    "model_traced = module2traced(model, images[0])\n",
    "plt.rcParams['figure.figsize'] = 14,14\n",
    "vis = Weights(model, device)\n",
    "layer = model_traced[1]\n",
    "run_vis_plot(vis, images[1], layer, ncols=4, nrows=4)"
   ]
  }
 ],
 "metadata": {
  "interpreter": {
   "hash": "a10da44cb91794881b57a0fc91695c8daa0d2aa33c8994375b52e962486c3cfb"
  },
  "kernelspec": {
   "display_name": "Python 3.8.12 ('deep_geo_guessr')",
   "language": "python",
   "name": "python3"
  },
  "language_info": {
   "codemirror_mode": {
    "name": "ipython",
    "version": 3
   },
   "file_extension": ".py",
   "mimetype": "text/x-python",
   "name": "python",
   "nbconvert_exporter": "python",
   "pygments_lexer": "ipython3",
   "version": "3.8.12"
  }
 },
 "nbformat": 4,
 "nbformat_minor": 2
}
