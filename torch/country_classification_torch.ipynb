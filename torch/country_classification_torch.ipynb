{
 "cells": [
  {
   "cell_type": "code",
   "execution_count": null,
   "metadata": {},
   "outputs": [],
   "source": [
    "import os\n",
    "from pathlib import Path\n",
    "import matplotlib.pyplot as plt\n",
    "import matplotlib.image as mpimg\n",
    "from PIL import Image\n",
    "\n",
    "from sklearn.model_selection import train_test_split\n",
    "\n",
    "import torch\n",
    "from torch import nn\n",
    "from torch.utils.data import DataLoader, Dataset\n",
    "from torchmetrics import Accuracy\n",
    "from torchvision import models, transforms"
   ]
  },
  {
   "cell_type": "code",
   "execution_count": null,
   "metadata": {},
   "outputs": [],
   "source": [
    "def get_abs_path(n_parent: int = 0):\n",
    "    return Path('../' * n_parent).resolve()"
   ]
  },
  {
   "cell_type": "code",
   "execution_count": null,
   "metadata": {},
   "outputs": [],
   "source": [
    "path = get_abs_path(1)\n",
    "data_path = path / 'data'\n",
    "images_paths = data_path.glob('**/*.png')\n",
    "images_paths = list(images_paths)\n",
    "\n",
    "class_names = [d.name for d in data_path.iterdir() if d.is_dir()]\n",
    "class_labels = {value:key for (key,value) in enumerate(class_names)}\n",
    "print('Labels:', class_labels)"
   ]
  },
  {
   "cell_type": "code",
   "execution_count": null,
   "metadata": {},
   "outputs": [],
   "source": [
    "train_paths, test_paths = train_test_split(images_paths, test_size=0.1, shuffle=True)\n",
    "val_paths, test_paths = train_test_split(test_paths, test_size=0.5, shuffle=True)\n",
    "print('train len: %d val len: %d test len: %d' % (len(train_paths), len(val_paths), len(test_paths)))"
   ]
  },
  {
   "cell_type": "code",
   "execution_count": null,
   "metadata": {},
   "outputs": [],
   "source": [
    "data_transforms = {\n",
    "    'train': transforms.Compose([\n",
    "        transforms.Resize((400, 400)),\n",
    "        transforms.RandomCrop((300, 300)),\n",
    "        transforms.Resize((224,224)),\n",
    "        transforms.ToTensor(),\n",
    "        transforms.Normalize([0.485, 0.456, 0.406], [0.229, 0.224, 0.225])\n",
    "    ]),\n",
    "    'validate': transforms.Compose([\n",
    "        transforms.Resize((224,224)),\n",
    "        transforms.ToTensor(),\n",
    "        transforms.Normalize([0.485, 0.456, 0.406], [0.229, 0.224, 0.225])\n",
    "    ]),\n",
    "    'test': transforms.Compose([\n",
    "        transforms.Resize((224,224)),\n",
    "        transforms.ToTensor(),\n",
    "        transforms.Normalize([0.485, 0.456, 0.406], [0.229, 0.224, 0.225])\n",
    "    ])\n",
    "}"
   ]
  },
  {
   "cell_type": "code",
   "execution_count": null,
   "metadata": {},
   "outputs": [],
   "source": [
    "def get_label_from_filename(class_labels, filename):\n",
    "    for country_name, country_label in class_labels.items():\n",
    "        if country_name in filename:\n",
    "            return country_label\n",
    "\n",
    "\n",
    "class CountryDataset(Dataset):\n",
    "\n",
    "    def __init__(self, images_paths, class_labels, transform):\n",
    "\n",
    "        self.images_paths = images_paths\n",
    "        self.transform = transform\n",
    "\n",
    "        self.labels = []\n",
    "        for image_path in self.images_paths:\n",
    "            image_path = str(image_path)\n",
    "            label = get_label_from_filename(class_labels, image_path)\n",
    "            self.labels.append(label)\n",
    "\n",
    "\n",
    "    def __len__(self):\n",
    "        return len(self.images_paths)\n",
    "\n",
    "\n",
    "    def __getitem__(self, idx):\n",
    "\n",
    "        filename = self.images_paths[idx]\n",
    "        x = Image.open(filename)\n",
    "        x = self.transform(x)\n",
    "        label = self.labels[idx]\n",
    "        return x, label, filename"
   ]
  },
  {
   "cell_type": "code",
   "execution_count": null,
   "metadata": {},
   "outputs": [],
   "source": [
    "batch_size = 16\n",
    "train_dataset = CountryDataset(train_paths, class_labels, data_transforms['train'])\n",
    "val_dataset = CountryDataset(val_paths, class_labels, data_transforms['validate'])\n",
    "test_dataset = CountryDataset(test_paths, class_labels, data_transforms['test'])\n",
    "train_dataloader = DataLoader(train_dataset, batch_size=batch_size, shuffle=True, num_workers=8)\n",
    "val_dataloader = DataLoader(train_dataset, batch_size=batch_size, shuffle=True, num_workers=8)\n",
    "test_dataloader = DataLoader(train_dataset, batch_size=batch_size, shuffle=True, num_workers=8)"
   ]
  },
  {
   "cell_type": "code",
   "execution_count": null,
   "metadata": {},
   "outputs": [],
   "source": [
    "for i in range(1):\n",
    "    x, label, filename = train_dataset[i]\n",
    "    name = class_names[label]\n",
    "    img = mpimg.imread(filename)\n",
    "    plt.gca().clear()\n",
    "    plt.title(name)\n",
    "    plt.imshow(img)\n",
    "    plt.show()"
   ]
  },
  {
   "cell_type": "code",
   "execution_count": null,
   "metadata": {},
   "outputs": [],
   "source": [
    "device = ('cuda' if torch.cuda.is_available() else 'cpu')\n",
    "print('Using {0} device'.format(device))"
   ]
  },
  {
   "cell_type": "code",
   "execution_count": null,
   "metadata": {},
   "outputs": [],
   "source": []
  }
 ],
 "metadata": {
  "interpreter": {
   "hash": "a10da44cb91794881b57a0fc91695c8daa0d2aa33c8994375b52e962486c3cfb"
  },
  "kernelspec": {
   "display_name": "Python 3.8.12 64-bit ('deep_geo_guessr': conda)",
   "language": "python",
   "name": "python3"
  },
  "language_info": {
   "codemirror_mode": {
    "name": "ipython",
    "version": 3
   },
   "file_extension": ".py",
   "mimetype": "text/x-python",
   "name": "python",
   "nbconvert_exporter": "python",
   "pygments_lexer": "ipython3",
   "version": "3.8.12"
  }
 },
 "nbformat": 4,
 "nbformat_minor": 2
}
