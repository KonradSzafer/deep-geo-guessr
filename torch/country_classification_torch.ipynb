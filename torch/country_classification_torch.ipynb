{
 "cells": [
  {
   "cell_type": "code",
   "execution_count": null,
   "metadata": {},
   "outputs": [],
   "source": [
    "import os\n",
    "from pathlib import Path\n",
    "import matplotlib.pyplot as plt\n",
    "import matplotlib.image as mpimg\n",
    "from PIL import Image\n",
    "from sklearn.model_selection import train_test_split\n",
    "import torch\n",
    "from torch import nn\n",
    "import torch.nn.functional as F\n",
    "from torch.utils.data import DataLoader, Dataset\n",
    "from torchmetrics import Accuracy\n",
    "from torchvision import models, transforms\n",
    "from torchsummary import summary"
   ]
  },
  {
   "cell_type": "code",
   "execution_count": null,
   "metadata": {},
   "outputs": [],
   "source": [
    "def get_abs_path(n_parent: int = 0):\n",
    "    return Path('../' * n_parent).resolve()"
   ]
  },
  {
   "cell_type": "code",
   "execution_count": null,
   "metadata": {},
   "outputs": [],
   "source": [
    "path = get_abs_path(1)\n",
    "model_path = path / 'models' / 'deep_geo_guessr.pt'\n",
    "data_path = path / 'data'\n",
    "images_paths = data_path.glob('**/*.png')\n",
    "images_paths = list(images_paths)\n",
    "images_paths = [str(path) for path in images_paths]\n",
    "\n",
    "class_names = [d.name for d in data_path.iterdir() if d.is_dir()]\n",
    "class_labels = {value:key for (key,value) in enumerate(class_names)}\n",
    "print('Labels:', class_labels)\n",
    "\n",
    "train_paths, test_paths = train_test_split(images_paths, test_size=0.2, shuffle=True)\n",
    "val_paths, test_paths = train_test_split(test_paths, test_size=0.5, shuffle=True)\n",
    "print('train len: %d val len: %d test len: %d' % (len(train_paths), len(val_paths), len(test_paths)))"
   ]
  },
  {
   "cell_type": "code",
   "execution_count": null,
   "metadata": {},
   "outputs": [],
   "source": [
    "data_transforms = {\n",
    "    'train': transforms.Compose([\n",
    "        transforms.Resize((400, 400)),\n",
    "        transforms.RandomCrop((300, 300)),\n",
    "        transforms.Resize((224,224)),\n",
    "        transforms.ToTensor(),\n",
    "        transforms.Normalize([0.485, 0.456, 0.406], [0.229, 0.224, 0.225])\n",
    "    ]),\n",
    "    'validate': transforms.Compose([\n",
    "        transforms.Resize((224,224)),\n",
    "        transforms.ToTensor(),\n",
    "        transforms.Normalize([0.485, 0.456, 0.406], [0.229, 0.224, 0.225])\n",
    "    ]),\n",
    "    'test': transforms.Compose([\n",
    "        transforms.Resize((224,224)),\n",
    "        transforms.ToTensor(),\n",
    "        transforms.Normalize([0.485, 0.456, 0.406], [0.229, 0.224, 0.225])\n",
    "    ])\n",
    "}\n",
    "\n",
    "\n",
    "def get_label_from_path(class_labels, path):\n",
    "    for name, label in class_labels.items():\n",
    "        if name in path:\n",
    "            return label\n",
    "\n",
    "\n",
    "class CountryDataset(Dataset):\n",
    "    def __init__(self, images_paths, class_labels, transforms):\n",
    "        self.images_paths = images_paths\n",
    "        self.transforms = transforms\n",
    "        self.labels = []\n",
    "        for image_path in self.images_paths:\n",
    "            label = get_label_from_path(class_labels, image_path)\n",
    "            self.labels.append(label)\n",
    "\n",
    "    def __len__(self):\n",
    "        return len(self.images_paths)\n",
    "\n",
    "    def __getitem__(self, idx):\n",
    "        path = self.images_paths[idx]\n",
    "        x = Image.open(path)\n",
    "        x = self.transforms(x)\n",
    "        label = self.labels[idx]\n",
    "        return x, label, path\n",
    "\n",
    "\n",
    "batch_size = 10\n",
    "num_workers = 0\n",
    "train_dataset = CountryDataset(train_paths, class_labels, data_transforms['train'])\n",
    "valid_dataset = CountryDataset(val_paths, class_labels, data_transforms['validate'])\n",
    "test_dataset = CountryDataset(test_paths, class_labels, data_transforms['test'])\n",
    "train_dataloader = DataLoader(train_dataset, batch_size=batch_size, shuffle=True, num_workers=num_workers)\n",
    "valid_dataloader = DataLoader(valid_dataset, batch_size=batch_size, shuffle=True, num_workers=num_workers)\n",
    "test_dataloader = DataLoader(test_dataset, batch_size=batch_size, shuffle=True, num_workers=num_workers)"
   ]
  },
  {
   "cell_type": "code",
   "execution_count": null,
   "metadata": {},
   "outputs": [],
   "source": [
    "for i in range(3):\n",
    "    x, label, filename = train_dataset[i]\n",
    "    name = class_names[label]\n",
    "    img = mpimg.imread(filename)\n",
    "    plt.gca().clear()\n",
    "    plt.title(name)\n",
    "    plt.imshow(img)\n",
    "    plt.show()"
   ]
  },
  {
   "cell_type": "code",
   "execution_count": null,
   "metadata": {},
   "outputs": [],
   "source": [
    "class CountryClassificator(nn.Module):\n",
    "\n",
    "    def __init__(self, num_classes):\n",
    "        super(CountryClassificator, self).__init__()\n",
    "\n",
    "        self.model = models.resnet18(pretrained=True)\n",
    "        self.model.fc = nn.Linear(self.model.fc.in_features, num_classes)\n",
    "\n",
    "    def forward(self, x):\n",
    "        x = self.model(x)\n",
    "        return x"
   ]
  },
  {
   "cell_type": "code",
   "execution_count": null,
   "metadata": {},
   "outputs": [],
   "source": [
    "device = ('cuda' if torch.cuda.is_available() else 'cpu')\n",
    "print('Using {0} device'.format(device))\n",
    "\n",
    "model = CountryClassificator(num_classes=len(class_labels))\n",
    "model.to(device)\n",
    "summary(model, (3, 224, 224))"
   ]
  },
  {
   "cell_type": "code",
   "execution_count": null,
   "metadata": {},
   "outputs": [],
   "source": [
    "def train(model, optimizer, loss_function, train_dataloader, valid_dataloader, epochs, batch_size):\n",
    "\n",
    "    for epoch in range(epochs):\n",
    "        total_train_loss = 0\n",
    "        total_valid_true = 0\n",
    "        total_valid_loss = 0\n",
    "        total_train_true = 0\n",
    "\n",
    "        model.train()\n",
    "        for x, labels, _ in train_dataloader:\n",
    "            x, labels = x.to(device), labels.to(device)\n",
    "            preds = model(x)\n",
    "            loss = loss_function(preds, labels)\n",
    "            total_train_loss += loss.item()\n",
    "            optimizer.zero_grad()\n",
    "            loss.backward()\n",
    "            optimizer.step()\n",
    "\n",
    "            _, pred_label = torch.max(preds, 1)\n",
    "            total_train_true += pred_label.eq(labels).sum().item()\n",
    "\n",
    "        model.eval()\n",
    "        for x, labels, _ in valid_dataloader:\n",
    "            x, labels = x.to(device), labels.to(device)\n",
    "            preds = model(x)\n",
    "            loss = loss_function(preds, labels)\n",
    "            total_valid_loss += loss.item()\n",
    "\n",
    "            _, pred_label = torch.max(preds, 1)\n",
    "            total_valid_true += pred_label.eq(labels).sum().item()\n",
    "\n",
    "        train_samples_count = len(train_dataloader) * batch_size\n",
    "        valid_samples_count = len(valid_dataloader) * batch_size\n",
    "        print( (f'Epoch {epoch+1}/{epochs} '\n",
    "                f'Train loss: {total_train_loss/train_samples_count:.3f} '\n",
    "                f'Train acc: {total_train_true/train_samples_count:.3f} '\n",
    "                f'Valid loss: {total_valid_loss/valid_samples_count:.3f} '\n",
    "                f'Valid acc: {total_valid_true/valid_samples_count:.3f} '))\n",
    "\n",
    "\n",
    "def loss_function(pred, target):\n",
    "    return F.cross_entropy( pred, target,\n",
    "                            weight=torch.Tensor([1.0, 1.0, 1.0, 1.0, 1.0]).to(device),\n",
    "                            reduction='mean')\n",
    "\n",
    "\n",
    "epochs = 15\n",
    "optimizer = torch.optim.SGD(model.parameters(), lr=1e-3, momentum=0.9)\n",
    "train(model, optimizer, loss_function, train_dataloader, valid_dataloader, epochs, batch_size)"
   ]
  },
  {
   "cell_type": "code",
   "execution_count": null,
   "metadata": {},
   "outputs": [],
   "source": [
    "def test(model, dataset):\n",
    "    total_true = 0\n",
    "    model.eval()\n",
    "    for x, labels, _ in dataset:\n",
    "        x = x.to(device)\n",
    "        preds = model(x.unsqueeze(0))\n",
    "        _, pred_label = torch.max(preds, 1)\n",
    "        total_true += pred_label.eq(labels).sum().item()\n",
    "    print(f'Accuracy: {total_true/len(dataset):.3f}')\n",
    "\n",
    "\n",
    "test(model, test_dataset)"
   ]
  },
  {
   "cell_type": "code",
   "execution_count": null,
   "metadata": {},
   "outputs": [],
   "source": [
    "torch.save(model.state_dict(), model_path)"
   ]
  }
 ],
 "metadata": {
  "interpreter": {
   "hash": "a10da44cb91794881b57a0fc91695c8daa0d2aa33c8994375b52e962486c3cfb"
  },
  "kernelspec": {
   "display_name": "Python 3.8.12 64-bit ('deep_geo_guessr': conda)",
   "language": "python",
   "name": "python3"
  },
  "language_info": {
   "codemirror_mode": {
    "name": "ipython",
    "version": 3
   },
   "file_extension": ".py",
   "mimetype": "text/x-python",
   "name": "python",
   "nbconvert_exporter": "python",
   "pygments_lexer": "ipython3",
   "version": "3.8.12"
  }
 },
 "nbformat": 4,
 "nbformat_minor": 2
}
